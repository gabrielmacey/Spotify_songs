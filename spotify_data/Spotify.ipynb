{
 "cells": [
  {
   "cell_type": "code",
   "execution_count": 1,
   "metadata": {},
   "outputs": [],
   "source": [
    "import spotipy\n",
    "from spotipy.oauth2 import SpotifyClientCredentials\n",
    "from spotipy.oauth2 import SpotifyOAuth\n",
    "import pandas as pd\n",
    "import pymongo"
   ]
  },
  {
   "cell_type": "code",
   "execution_count": 2,
   "metadata": {},
   "outputs": [],
   "source": [
    "sp = spotipy.Spotify(auth_manager=SpotifyClientCredentials(client_id=\"34cf82d8d8ae48c1b2ab244f671f2f2a\",\n",
    "                                                           client_secret=\"bc784b01b19c4b57af701945065ab537\"))"
   ]
  },
  {
   "cell_type": "code",
   "execution_count": 3,
   "metadata": {},
   "outputs": [],
   "source": [
    "name = [] \n",
    "pop = [] \n",
    "date = [] \n",
    "artist = []"
   ]
  },
  {
   "cell_type": "code",
   "execution_count": 4,
   "metadata": {},
   "outputs": [
    {
     "name": "stdout",
     "output_type": "stream",
     "text": [
      "0 Body Like A Back Road 72 2017-02-01 Sam Hunt\n",
      "1 Hard To Forget 69 2020-04-03 Sam Hunt\n",
      "2 House Party 69 2014-10-27 Sam Hunt\n",
      "3 Break Up In A Small Town 66 2014-10-27 Sam Hunt\n",
      "4 Breaking Up Was Easy In The 90's 66 2020-04-03 Sam Hunt\n",
      "5 Kinfolks 64 2020-04-03 Sam Hunt\n",
      "6 Make You Miss Me 65 2014-10-27 Sam Hunt\n",
      "7 Body Like A Back Road 66 2020-04-03 Sam Hunt\n",
      "8 Take Your Time 66 2014-10-27 Sam Hunt\n",
      "9 Kinfolks 64 2019-10-10 Sam Hunt\n"
     ]
    }
   ],
   "source": [
    "sh_results = sp.search(q='Sam Hunt', limit=10)\n",
    "for idx, track in enumerate(sh_results['tracks']['items']):\n",
    "    print(idx, track['name'], track['popularity'], track['album']['release_date'], 'Sam Hunt')\n",
    "    name.append(track['name'])\n",
    "    pop.append(track['popularity']) \n",
    "    date.append(track['album']['release_date']) \n",
    "    artist.append('Sam Hunt')"
   ]
  },
  {
   "cell_type": "code",
   "execution_count": 5,
   "metadata": {},
   "outputs": [
    {
     "name": "stdout",
     "output_type": "stream",
     "text": [
      "0 Famous For (I Believe) 61 2020-01-24 Tauren Wells\n",
      "1 Known 61 2017-06-23 Tauren Wells\n",
      "2 Hills and Valleys (The Valleys Version) 60 2017-06-23 Tauren Wells\n",
      "3 Echo (feat. Tauren Wells) 56 2018-09-28 Tauren Wells\n",
      "4 All God's Children 58 2020-12-31 Tauren Wells\n",
      "5 Never Lost (Live) (feat. Tauren Wells) 55 2020-05-01 Tauren Wells\n",
      "6 Famous For (I Believe) [Dove Awards Version] (feat. Jenn Johnson, Christine D'Clario & Jekalyn Carr) 56 2020-12-11 Tauren Wells\n",
      "7 God's Not Done with You (Single Version) 56 2019-04-05 Tauren Wells\n",
      "8 Like You Love Me 55 2020-01-24 Tauren Wells\n",
      "9 Echo (feat. Tauren Wells) 49 2018-08-31 Tauren Wells\n"
     ]
    }
   ],
   "source": [
    "tw_results = sp.search(q='Tauren Wells', limit=10)\n",
    "for idx, track in enumerate(tw_results['tracks']['items']):\n",
    "    print(idx, track['name'], track['popularity'], track['album']['release_date'], 'Tauren Wells')\n",
    "    name.append(track['name'])\n",
    "    pop.append(track['popularity']) \n",
    "    date.append(track['album']['release_date']) \n",
    "    artist.append('Tauren Wells')"
   ]
  },
  {
   "cell_type": "code",
   "execution_count": 6,
   "metadata": {},
   "outputs": [
    {
     "name": "stdout",
     "output_type": "stream",
     "text": [
      "0 Forever After All 80 2020-10-23 Luke Combs\n",
      "1 Better Together 78 2019-11-08 Luke Combs\n",
      "2 Beautiful Crazy 78 2018-06-01 Luke Combs\n",
      "3 Beer Never Broke My Heart 75 2019-11-08 Luke Combs\n",
      "4 When It Rains It Pours 75 2017-06-02 Luke Combs\n",
      "5 Hurricane 74 2017-06-02 Luke Combs\n",
      "6 She Got the Best of Me 74 2018-06-01 Luke Combs\n",
      "7 Lovin' On You 72 2019-11-08 Luke Combs\n",
      "8 The Great Divide 4 2021-02-01 Luke Combs\n",
      "9 Even Though I'm Leaving 71 2019-11-08 Luke Combs\n"
     ]
    }
   ],
   "source": [
    "lc_results = sp.search(q='Luke Combs', limit=10)\n",
    "for idx, track in enumerate(lc_results['tracks']['items']):\n",
    "    print(idx, track['name'], track['popularity'], track['album']['release_date'], 'Luke Combs')\n",
    "    name.append(track['name'])\n",
    "    pop.append(track['popularity']) \n",
    "    date.append(track['album']['release_date']) \n",
    "    artist.append('Luke Combs')"
   ]
  },
  {
   "cell_type": "code",
   "execution_count": 7,
   "metadata": {},
   "outputs": [
    {
     "name": "stdout",
     "output_type": "stream",
     "text": [
      "0 Play It Again 72 2013-01-01 Luke Bryan\n",
      "1 Down To One 71 2020-08-07 Luke Bryan\n",
      "2 One Margarita 68 2020-03-13 Luke Bryan\n",
      "3 This Is How We Roll 67 2013-01-01 Luke Bryan\n",
      "4 Country Girl (Shake It For Me) 68 2011-08-09 Luke Bryan\n",
      "5 That's My Kind Of Night 68 2013-01-01 Luke Bryan\n",
      "6 Knockin' Boots 68 2019-03-29 Luke Bryan\n",
      "7 Huntin', Fishin' And Lovin' Every Day 64 2015-08-07 Luke Bryan\n",
      "8 Kick The Dust Up 63 2015-08-07 Luke Bryan\n",
      "9 I Don't Want This Night To End 63 2011-08-09 Luke Bryan\n"
     ]
    }
   ],
   "source": [
    "ld_results = sp.search(q='Luke Bryan', limit=10)\n",
    "for idx, track in enumerate(ld_results['tracks']['items']):\n",
    "    print(idx, track['name'], track['popularity'], track['album']['release_date'], 'Luke Bryan')\n",
    "    name.append(track['name'])\n",
    "    pop.append(track['popularity']) \n",
    "    date.append(track['album']['release_date']) \n",
    "    artist.append('Luke Bryan')"
   ]
  },
  {
   "cell_type": "code",
   "execution_count": 8,
   "metadata": {},
   "outputs": [
    {
     "name": "stdout",
     "output_type": "stream",
     "text": [
      "0 Be Like That - feat. Swae Lee & Khalid 81 2020-07-10 Kane Brown\n",
      "1 Heaven 73 2017-10-06 Kane Brown\n",
      "2 Worship You 72 2020-08-14 Kane Brown\n",
      "3 What Ifs (feat. Lauren Alaina) 72 2016-12-02 Kane Brown\n",
      "4 Famous Friends 72 2020-11-20 Kane Brown\n",
      "5 One Thing Right 75 2019-06-21 Kane Brown\n",
      "6 Good as You 68 2019-11-01 Kane Brown\n",
      "7 On Me (feat. Ava Max) 72 2020-05-15 Kane Brown\n",
      "8 Homesick 68 2019-11-01 Kane Brown\n",
      "9 Cool Again 66 2020-04-23 Kane Brown\n"
     ]
    }
   ],
   "source": [
    "kb_results = sp.search(q='Kane Brown', limit=10)\n",
    "for idx, track in enumerate(kb_results['tracks']['items']):\n",
    "    print(idx, track['name'], track['popularity'], track['album']['release_date'], 'Kane Brown')\n",
    "    name.append(track['name'])\n",
    "    pop.append(track['popularity']) \n",
    "    date.append(track['album']['release_date']) \n",
    "    artist.append('Kane Brown')"
   ]
  },
  {
   "cell_type": "code",
   "execution_count": 9,
   "metadata": {},
   "outputs": [
    {
     "name": "stdout",
     "output_type": "stream",
     "text": [
      "0 Good Days 92 2020-12-25 sza\n",
      "1 Hit Different 80 2020-09-04 sza\n",
      "2 All The Stars (with SZA) 79 2018-02-09 sza\n",
      "3 Love Galore (feat. Travis Scott) 79 2017-06-09 sza\n",
      "4 Broken Clocks 77 2017-06-09 sza\n",
      "5 Drew Barrymore 78 2017-06-09 sza\n",
      "6 The Weekend 75 2017-06-09 sza\n",
      "7 Supermodel 74 2017-06-09 sza\n",
      "8 The Weekend - Funk Wav Remix 76 2017-12-15 sza\n",
      "9 Garden (Say It Like Dat) 72 2017-06-09 sza\n"
     ]
    }
   ],
   "source": [
    "sza_results = sp.search(q='sza', limit=10)\n",
    "for idx, track in enumerate(sza_results['tracks']['items']):\n",
    "    print(idx, track['name'], track['popularity'], track['album']['release_date'], 'sza')\n",
    "    name.append(track['name'])\n",
    "    pop.append(track['popularity']) \n",
    "    date.append(track['album']['release_date']) \n",
    "    artist.append('sza')"
   ]
  },
  {
   "cell_type": "code",
   "execution_count": 10,
   "metadata": {},
   "outputs": [
    {
     "name": "stdout",
     "output_type": "stream",
     "text": [
      "0 My Boo 78 2004-03-23 Alicia Keys\n",
      "1 No One 78 2007-11-09 Alicia Keys\n",
      "2 If I Ain't Got You 77 2003-12-02 Alicia Keys\n",
      "3 Empire State Of Mind 79 2009-09-08 Alicia Keys\n",
      "4 Girl on Fire 75 2012-11-18 Alicia Keys\n",
      "5 Fallin' 72 2001-06-26 Alicia Keys\n",
      "6 So Done (feat. Khalid) 67 2020-08-14 Alicia Keys\n",
      "7 Underdog 71 2020-01-09 Alicia Keys\n",
      "8 Empire State of Mind (Part II) Broken Down 72 2009-12-15 Alicia Keys\n",
      "9 Wasted Energy (feat. Kaash Paige & Diamond Platnumz) - Remix 62 2020-12-18 Alicia Keys\n"
     ]
    }
   ],
   "source": [
    "ak_results = sp.search(q='Alicia Keys', limit=10)\n",
    "for idx, track in enumerate(ak_results['tracks']['items']):\n",
    "    print(idx, track['name'], track['popularity'], track['album']['release_date'], 'Alicia Keys')\n",
    "    name.append(track['name'])\n",
    "    pop.append(track['popularity']) \n",
    "    date.append(track['album']['release_date']) \n",
    "    artist.append('Alicia Keys')"
   ]
  },
  {
   "cell_type": "code",
   "execution_count": 11,
   "metadata": {},
   "outputs": [
    {
     "name": "stdout",
     "output_type": "stream",
     "text": [
      "0 Savage Remix (feat. Beyoncé) 78 2020-04-29 Beyonce\n",
      "1 Crazy In Love (feat. Jay-Z) 74 2003-06-24 Beyonce\n",
      "2 Formation 73 2016-04-23 Beyonce\n",
      "3 Halo 75 2008-11-17 Beyonce\n",
      "4 Feeling Myself 66 2014-12-15 Beyonce\n",
      "5 Savage Remix (feat. Beyoncé) 68 2020-11-20 Beyonce\n",
      "6 Love On Top 73 2011-06-24 Beyonce\n",
      "7 Hold Up 70 2016-04-23 Beyonce\n",
      "8 Perfect Duet (Ed Sheeran & Beyoncé) 74 2017-11-30 Beyonce\n",
      "9 Telephone 66 2009-08-05 Beyonce\n"
     ]
    }
   ],
   "source": [
    "bk_results = sp.search(q='Beyonce', limit=10)\n",
    "for idx, track in enumerate(bk_results['tracks']['items']):\n",
    "    print(idx, track['name'], track['popularity'], track['album']['release_date'], 'Beyonce')\n",
    "    name.append(track['name'])\n",
    "    pop.append(track['popularity']) \n",
    "    date.append(track['album']['release_date']) \n",
    "    artist.append('Beyonce')"
   ]
  },
  {
   "cell_type": "code",
   "execution_count": 12,
   "metadata": {},
   "outputs": [
    {
     "name": "stdout",
     "output_type": "stream",
     "text": [
      "0 Yeah! (feat. Lil Jon & Ludacris) 80 2004-03-23 Usher\n",
      "1 Come Thru (with Usher) 72 2019-10-04 Usher\n",
      "2 My Boo 78 2004-03-23 Usher\n",
      "3 Too Much (feat. Imanbek & Usher) - Alle Farben Remix 67 2021-01-22 Usher\n",
      "4 DJ Got Us Fallin' In Love (feat. Pitbull) 77 2010-03-30 Usher\n",
      "5 Too Much (feat. Usher) 75 2020-10-23 Usher\n",
      "6 OMG (feat. will.i.am) 70 2010-03-30 Usher\n",
      "7 U Got It Bad 68 2001-08-07 Usher\n",
      "8 Without You (feat. Usher) 61 2011-08-26 Usher\n",
      "9 U Remind Me 70 2001-08-07 Usher\n"
     ]
    }
   ],
   "source": [
    "ush_results = sp.search(q='Usher', limit=10)\n",
    "for idx, track in enumerate(ush_results['tracks']['items']):\n",
    "    print(idx, track['name'], track['popularity'], track['album']['release_date'], 'Usher')\n",
    "    name.append(track['name'])\n",
    "    pop.append(track['popularity']) \n",
    "    date.append(track['album']['release_date']) \n",
    "    artist.append('Usher')"
   ]
  },
  {
   "cell_type": "code",
   "execution_count": 13,
   "metadata": {},
   "outputs": [
    {
     "name": "stdout",
     "output_type": "stream",
     "text": [
      "0 Be Without You - Kendu Mix 61 2005-01-01 Mary J Blige\n",
      "1 I'll Be There For You/You're All I Need To Get By - Puff Daddy Mix 58 2014-09-16 Mary J Blige\n",
      "2 Real Love 63 1992-01-01 Mary J Blige\n",
      "3 Come Close 48 2002-01-01 Mary J Blige\n",
      "4 Family Affair 70 2001-01-01 Mary J Blige\n",
      "5 911 (feat. Mary J. Blige) 46 2000-08-14 Mary J Blige\n",
      "6 Just Fine 62 2007-01-01 Mary J Blige\n",
      "7 I'll Be There For You/You're All I Need To Get By - Puff Daddy Mix 45 1995-04-25 Mary J Blige\n",
      "8 Touch It - Remix/Featuring Mary J. Blige, Rah Digga, Missy Elliot, Lloyd Banks, Papoose & DMX (Edited) 48 2005-01-01 Mary J Blige\n",
      "9 Mary Jane (All Night Long) 56 1994-01-01 Mary J Blige\n"
     ]
    }
   ],
   "source": [
    "mjb_results = sp.search(q='Mary J Blige', limit=10)\n",
    "for idx, track in enumerate(mjb_results['tracks']['items']):\n",
    "    print(idx, track['name'], track['popularity'], track['album']['release_date'], 'Mary J Blige')\n",
    "    name.append(track['name'])\n",
    "    pop.append(track['popularity']) \n",
    "    date.append(track['album']['release_date']) \n",
    "    artist.append('Mary J Blige')"
   ]
  },
  {
   "cell_type": "code",
   "execution_count": 14,
   "metadata": {},
   "outputs": [
    {
     "name": "stdout",
     "output_type": "stream",
     "text": [
      "0 Vivir Mi Vida 74 2013-07-23 Marc Anthony\n",
      "1 La Gozadera (feat. Marc Anthony) 71 2016-04-22 Marc Anthony\n",
      "2 De Vuelta Pa' La Vuelta 76 2020-12-10 Marc Anthony\n",
      "3 Por Amar Se Da Todo 0 2021-01-29 Marc Anthony\n",
      "4 Yo También (feat. Marc Anthony) 67 2014-02-25 Marc Anthony\n",
      "5 Deja Que Te Bese 0 2021-01-22 Marc Anthony\n",
      "6 Nadie Como Ella 0 2021-02-04 Marc Anthony\n",
      "7 Está Rico 66 2018-09-28 Marc Anthony\n",
      "8 Tu Amor Me Hace Bien - Salsa Version 68 2004-07-27 Marc Anthony\n",
      "9 Flor Pálida 69 2013-07-23 Marc Anthony\n"
     ]
    }
   ],
   "source": [
    "ma_results = sp.search(q='Marc Anthony', limit=10)\n",
    "for idx, track in enumerate(ma_results['tracks']['items']):\n",
    "    print(idx, track['name'], track['popularity'], track['album']['release_date'], 'Marc Anthony')\n",
    "    name.append(track['name'])\n",
    "    pop.append(track['popularity']) \n",
    "    date.append(track['album']['release_date']) \n",
    "    artist.append('Marc Anthony')"
   ]
  },
  {
   "cell_type": "code",
   "execution_count": 15,
   "metadata": {},
   "outputs": [
    {
     "name": "stdout",
     "output_type": "stream",
     "text": [
      "0 Bailando - Spanish Version 65 2014-01-01 Enrique Inglesias\n",
      "1 Hero (In the Style of Enrique Inglesias) [Karaoke Version] 0 2012-12-02 Enrique Inglesias\n",
      "2 I Like It 62 2010-01-01 Enrique Inglesias\n",
      "3 Hero (In the Style of Enrique Inglesias) [Karaoke Version] 0 2013-01-27 Enrique Inglesias\n",
      "4 El Perdón 72 2017-01-20 Enrique Inglesias\n",
      "5 Hero - In the Style of Enrique Inglesias (Karaoke Version Teaching Vocal) 0 2010-01-01 Enrique Inglesias\n",
      "6 Fútbol & Rumba (feat. Enrique Iglesias) 71 2020-05-29 Enrique Inglesias\n",
      "7 Hero-5 - In the Style of Enrique Inglesias (Karaoke Version With Backup Vocals) 0 2010-01-01 Enrique Inglesias\n",
      "8 Cuando Me Enamoro 64 2010-01-01 Enrique Inglesias\n",
      "9 Escape (Instrumental Track With Background Vocals)[Karaoke in the style of Enrique Inglesias] 0 2009-08-13 Enrique Inglesias\n"
     ]
    }
   ],
   "source": [
    "ei_results = sp.search(q='Enrique Inglesias', limit=10)\n",
    "for idx, track in enumerate(ei_results['tracks']['items']):\n",
    "    print(idx, track['name'], track['popularity'], track['album']['release_date'], 'Enrique Inglesias')\n",
    "    name.append(track['name'])\n",
    "    pop.append(track['popularity']) \n",
    "    date.append(track['album']['release_date']) \n",
    "    artist.append('Enrique Inglesias')"
   ]
  },
  {
   "cell_type": "code",
   "execution_count": 16,
   "metadata": {},
   "outputs": [
    {
     "name": "stdout",
     "output_type": "stream",
     "text": [
      "0 DÁKITI 94 2020-10-30 Bad Bunny\n",
      "1 LA NOCHE DE ANOCHE 93 2020-11-27 Bad Bunny\n",
      "2 TE MUDASTE 88 2020-11-27 Bad Bunny\n",
      "3 DÁKITI 90 2020-11-27 Bad Bunny\n",
      "4 BAD CON NICKY 71 2020-05-10 Bad Bunny\n",
      "5 HACIENDO QUE ME AMAS 84 2020-11-27 Bad Bunny\n",
      "6 Bad Bunny 33 2020-11-15 Bad Bunny\n",
      "7 BOOKER T 84 2020-11-27 Bad Bunny\n",
      "8 Madura (feat. Bad Bunny) 69 2018-04-13 Bad Bunny\n",
      "9 Safaera 82 2020-02-28 Bad Bunny\n"
     ]
    }
   ],
   "source": [
    "bb_results = sp.search(q='Bad Bunny', limit=10)\n",
    "for idx, track in enumerate(bb_results['tracks']['items']):\n",
    "    print(idx, track['name'], track['popularity'], track['album']['release_date'], 'Bad Bunny')\n",
    "    name.append(track['name'])\n",
    "    pop.append(track['popularity']) \n",
    "    date.append(track['album']['release_date']) \n",
    "    artist.append('Bad Bunny')"
   ]
  },
  {
   "cell_type": "code",
   "execution_count": 17,
   "metadata": {},
   "outputs": [
    {
     "name": "stdout",
     "output_type": "stream",
     "text": [
      "0 Ella Quiere Beber - Remix 75 2018-11-02 Romeo Santos\n",
      "1 Sobredosis (feat. Ozuna) 74 2017-07-21 Romeo Santos\n",
      "2 Propuesta Indecente 74 2014-02-25 Romeo Santos\n",
      "3 Imitadora 72 2017-07-21 Romeo Santos\n",
      "4 La Mejor Versión de Mi - Remix 76 2019-10-04 Romeo Santos\n",
      "5 Eres Mía 72 2014-02-25 Romeo Santos\n",
      "6 Odio (feat. Drake) 69 2014-02-25 Romeo Santos\n",
      "7 Promise (feat. Usher) 67 2012-08-27 Romeo Santos\n",
      "8 Aullando 72 2018-12-14 Romeo Santos\n",
      "9 El Farsante - Remix 69 2018-01-30 Romeo Santos\n"
     ]
    }
   ],
   "source": [
    "rs_results = sp.search(q='Romeo Santos', limit=10)\n",
    "for idx, track in enumerate(rs_results['tracks']['items']):\n",
    "    print(idx, track['name'], track['popularity'], track['album']['release_date'], 'Romeo Santos')\n",
    "    name.append(track['name'])\n",
    "    pop.append(track['popularity']) \n",
    "    date.append(track['album']['release_date']) \n",
    "    artist.append('Romeo Santos')"
   ]
  },
  {
   "cell_type": "code",
   "execution_count": 18,
   "metadata": {},
   "outputs": [
    {
     "name": "stdout",
     "output_type": "stream",
     "text": [
      "0 Sweet Emotion 73 1975-04-08 Aerosmith\n",
      "1 Dream On 77 1973-01-05 Aerosmith\n",
      "2 Walk This Way 73 1975-04-08 Aerosmith\n",
      "3 Dude (Looks Like A Lady) 69 1987-01-01 Aerosmith\n",
      "4 Walk This Way (feat. Aerosmith) 68 1986-05-15 Aerosmith\n",
      "5 I Don't Want to Miss a Thing - From \"Armageddon\" Soundtrack 74 1998-06-23 Aerosmith\n",
      "6 I Don't Want to Miss a Thing - From \"Armageddon\" Soundtrack 73 1998-08-18 Aerosmith\n",
      "7 Cryin' 70 1993-01-01 Aerosmith\n",
      "8 Crazy 73 1993-01-01 Aerosmith\n",
      "9 Janie's Got A Gun 55 1994-01-01 Aerosmith\n"
     ]
    }
   ],
   "source": [
    "aero_results = sp.search(q='Aerosmith', limit=10)\n",
    "for idx, track in enumerate(aero_results['tracks']['items']):\n",
    "    print(idx, track['name'], track['popularity'], track['album']['release_date'], 'Aerosmith')\n",
    "    name.append(track['name'])\n",
    "    pop.append(track['popularity']) \n",
    "    date.append(track['album']['release_date']) \n",
    "    artist.append('Aerosmith')"
   ]
  },
  {
   "cell_type": "code",
   "execution_count": 19,
   "metadata": {},
   "outputs": [
    {
     "name": "stdout",
     "output_type": "stream",
     "text": [
      "0 Wish You Were Here 75 1975-09-12 Pink Floyd\n",
      "1 Another Brick in the Wall, Pt. 2 74 1979-11-30 Pink Floyd\n",
      "2 Comfortably Numb 72 1979-11-30 Pink Floyd\n",
      "3 Money 71 1973-03-01 Pink Floyd\n",
      "4 Time 68 1973-03-01 Pink Floyd\n",
      "5 Breathe (In the Air) 67 1973-03-01 Pink Floyd\n",
      "6 Hey You 66 1979-11-30 Pink Floyd\n",
      "7 Brain Damage 64 1973-03-01 Pink Floyd\n",
      "8 Us and Them 63 1973-03-01 Pink Floyd\n",
      "9 Shine On You Crazy Diamond (Pts. 1-5) 65 1975-09-12 Pink Floyd\n"
     ]
    }
   ],
   "source": [
    "pink_results = sp.search(q='Pink Floyd', limit=10)\n",
    "for idx, track in enumerate(pink_results['tracks']['items']):\n",
    "    print(idx, track['name'], track['popularity'], track['album']['release_date'], 'Pink Floyd')\n",
    "    name.append(track['name'])\n",
    "    pop.append(track['popularity']) \n",
    "    date.append(track['album']['release_date']) \n",
    "    artist.append('Pink Floyd')"
   ]
  },
  {
   "cell_type": "code",
   "execution_count": 20,
   "metadata": {},
   "outputs": [
    {
     "name": "stdout",
     "output_type": "stream",
     "text": [
      "0 Under the Bridge 79 1991-09-24 Red Hot Chilli Peppers\n",
      "1 Buried Alive 54 2014-10-21 Red Hot Chilli Peppers\n",
      "2 Californication 79 1999-06-08 Red Hot Chilli Peppers\n",
      "3 Pedigree 45 2018-11-13 Red Hot Chilli Peppers\n",
      "4 Can't Stop 78 2002-07-09 Red Hot Chilli Peppers\n",
      "5 Snow (Hey Oh) 77 2006-05-09 Red Hot Chilli Peppers\n",
      "6 Dani California 75 2006-05-09 Red Hot Chilli Peppers\n",
      "7 Scar Tissue 75 1999-06-08 Red Hot Chilli Peppers\n",
      "8 Otherside 76 1999-06-08 Red Hot Chilli Peppers\n",
      "9 Chilli Peppers (feat. Majid Jordan) 38 2016-12-23 Red Hot Chilli Peppers\n"
     ]
    }
   ],
   "source": [
    "red_results = sp.search(q='Red Hot Chilli Peppers', limit=10)\n",
    "for idx, track in enumerate(red_results['tracks']['items']):\n",
    "    print(idx, track['name'], track['popularity'], track['album']['release_date'], 'Red Hot Chilli Peppers')\n",
    "    name.append(track['name'])\n",
    "    pop.append(track['popularity']) \n",
    "    date.append(track['album']['release_date']) \n",
    "    artist.append('Rod Hot Chilli Peppers')"
   ]
  },
  {
   "cell_type": "code",
   "execution_count": 21,
   "metadata": {},
   "outputs": [
    {
     "name": "stdout",
     "output_type": "stream",
     "text": [
      "0 Sweet Child O' Mine 72 1987-07-21 Guns N Roses\n",
      "1 T-Shirt 61 2015-01-01 Guns N Roses\n",
      "2 Welcome To The Jungle 70 1987-07-21 Guns N Roses\n",
      "3 Final Fantasy 56 2018-06-29 Guns N Roses\n",
      "4 Paradise City 70 1987-07-21 Guns N Roses\n",
      "5 November Rain 78 1991-09-17 Guns N Roses\n",
      "6 Ashes 44 2019-09-06 Guns N Roses\n",
      "7 Knockin' On Heaven's Door 75 1991-09-18 Guns N Roses\n",
      "8 Live And Let Die 68 1991-09-17 Guns N Roses\n",
      "9 Drink About Me 45 2020-01-01 Guns N Roses\n"
     ]
    }
   ],
   "source": [
    "gun_results = sp.search(q='Guns N Roses', limit=10)\n",
    "for idx, track in enumerate(gun_results['tracks']['items']):\n",
    "    print(idx, track['name'], track['popularity'], track['album']['release_date'], 'Guns N Roses')\n",
    "    name.append(track['name'])\n",
    "    pop.append(track['popularity']) \n",
    "    date.append(track['album']['release_date']) \n",
    "    artist.append('Guns N Roses')"
   ]
  },
  {
   "cell_type": "code",
   "execution_count": 22,
   "metadata": {},
   "outputs": [
    {
     "name": "stdout",
     "output_type": "stream",
     "text": [
      "0 Back In Black 82 1980-07-25 ACDC\n",
      "1 Thunderstruck 81 1990-09-24 ACDC\n",
      "2 Highway to Hell 81 1979-07-27 ACDC\n",
      "3 You Shook Me All Night Long 78 1980-07-25 ACDC\n",
      "4 T.N.T. 76 1976-05-14 ACDC\n",
      "5 Dirty Deeds Done Dirt Cheap 71 1976-09-20 ACDC\n",
      "6 Hells Bells 72 1980-07-25 ACDC\n",
      "7 Shoot to Thrill 70 1980-07-25 ACDC\n",
      "8 It's a Long Way to the Top (If You Wanna Rock 'N' Roll) 69 1976-05-14 ACDC\n",
      "9 You Shook Me All Night Long 67 1986-05-24 ACDC\n"
     ]
    }
   ],
   "source": [
    "acdc_results = sp.search(q='ACDC', limit=10)\n",
    "for idx, track in enumerate(acdc_results['tracks']['items']):\n",
    "    print(idx, track['name'], track['popularity'], track['album']['release_date'], 'ACDC')\n",
    "    name.append(track['name'])\n",
    "    pop.append(track['popularity']) \n",
    "    date.append(track['album']['release_date']) \n",
    "    artist.append('ACDC')"
   ]
  },
  {
   "cell_type": "code",
   "execution_count": 23,
   "metadata": {},
   "outputs": [
    {
     "name": "stdout",
     "output_type": "stream",
     "text": [
      "0 Respect 72 1967-03-10 Aretha Franklin\n",
      "1 I Say a Little Prayer 74 1968-06-14 Aretha Franklin\n",
      "2 (You Make Me Feel Like) A Natural Woman 67 1968-01-22 Aretha Franklin\n",
      "3 I Say a Little Prayer 0 2021-02-02 Aretha Franklin\n",
      "4 Respect 0 2021-01-29 Aretha Franklin\n",
      "5 Respect 0 2021-02-02 Aretha Franklin\n",
      "6 Rock Steady 0 2021-02-02 Aretha Franklin\n",
      "7 Son of a Preacher Man 0 2021-02-02 Aretha Franklin\n",
      "8 Respect 3 2021-01-29 Aretha Franklin\n",
      "9 Respect 0 2021-02-01 Aretha Franklin\n"
     ]
    }
   ],
   "source": [
    "arth_results = sp.search(q='Aretha Franklin', limit=10)\n",
    "for idx, track in enumerate(arth_results['tracks']['items']):\n",
    "    print(idx, track['name'], track['popularity'], track['album']['release_date'], 'Aretha Franklin')\n",
    "    name.append(track['name'])\n",
    "    pop.append(track['popularity']) \n",
    "    date.append(track['album']['release_date']) \n",
    "    artist.append('Aretha Franklin')"
   ]
  },
  {
   "cell_type": "code",
   "execution_count": 24,
   "metadata": {},
   "outputs": [
    {
     "name": "stdout",
     "output_type": "stream",
     "text": [
      "0 Skating In Central Park 63 1962 Bill Evans\n",
      "1 Blue in Green (feat. John Coltrane & Bill Evans) 64 1959-08-17 Bill Evans\n",
      "2 My Foolish Heart 61 1961 Bill Evans\n",
      "3 So What (feat. John Coltrane, Cannonball Adderley & Bill Evans) 61 1959-08-17 Bill Evans\n",
      "4 Gary's Theme - Remastered 57 1981-02-02 Bill Evans\n",
      "5 Peace Piece 56 1959 Bill Evans\n",
      "6 Wellerman - Sea Shanty / 220 KID x Billen Ted Remix 71 2021-01-21 Bill Evans\n",
      "7 Peace Piece 1 2021-01-22 Bill Evans\n",
      "8 Stella By Starlight (feat. John Coltrane & Bill Evans) 56 1959-08-17 Bill Evans\n",
      "9 Young And Foolish 52 1959 Bill Evans\n"
     ]
    }
   ],
   "source": [
    "bill_results = sp.search(q='Bill Evans', limit=10)\n",
    "for idx, track in enumerate(bill_results['tracks']['items']):\n",
    "    print(idx, track['name'], track['popularity'], track['album']['release_date'], 'Bill Evans')\n",
    "    name.append(track['name'])\n",
    "    pop.append(track['popularity']) \n",
    "    date.append(track['album']['release_date']) \n",
    "    artist.append('Bill Evans')"
   ]
  },
  {
   "cell_type": "code",
   "execution_count": 25,
   "metadata": {},
   "outputs": [
    {
     "name": "stdout",
     "output_type": "stream",
     "text": [
      "0 Stormy Weather 60 2020-04-17 Oscar Peterson\n",
      "1 Blue And Sentimental 57 1956-01-01 Oscar Peterson\n",
      "2 I Got It Bad And That Ain't Good 58 1963-01-01 Oscar Peterson\n",
      "3 O Little Town of Bethlehem 54 1995-01-01 Oscar Peterson\n",
      "4 White Christmas 47 2013-01-01 Oscar Peterson\n",
      "5 There Will Never Be Another You 56 1959-06-02 Oscar Peterson\n",
      "6 Quiet Nights Of Quiet Stars (Corcovado) 55 1964 Oscar Peterson\n",
      "7 What Child Is This? 50 1995-01-01 Oscar Peterson\n",
      "8 Georgia On My Mind 54 1963-01-01 Oscar Peterson\n",
      "9 All the Things You Are 56 2014-01-31 Oscar Peterson\n"
     ]
    }
   ],
   "source": [
    "oscar_results = sp.search(q='Oscar Peterson', limit=10)\n",
    "for idx, track in enumerate(oscar_results['tracks']['items']):\n",
    "    print(idx, track['name'], track['popularity'], track['album']['release_date'], 'Oscar Peterson')\n",
    "    name.append(track['name'])\n",
    "    pop.append(track['popularity']) \n",
    "    date.append(track['album']['release_date']) \n",
    "    artist.append('Oscar Peterson')"
   ]
  },
  {
   "cell_type": "code",
   "execution_count": 26,
   "metadata": {},
   "outputs": [
    {
     "name": "stdout",
     "output_type": "stream",
     "text": [
      "0 Let It Snow! Let It Snow! Let It Snow! (with The B. Swanson Quartet) 79 1994-11-08 Frank Sinatra\n",
      "1 The First Noel - Remastered 1999 67 1957-09 Frank Sinatra\n",
      "2 Fly Me To The Moon (In Other Words) 72 1962-12-10 Frank Sinatra\n",
      "3 My Way 72 1969-03 Frank Sinatra\n",
      "4 Mistletoe And Holly 64 2013-09-17 Frank Sinatra\n",
      "5 Mistletoe And Holly - Remastered 1999 67 1957-09 Frank Sinatra\n",
      "6 Frank Sinatra 48 1996-09-17 Frank Sinatra\n",
      "7 Come Fly With Me - Remastered 67 1958 Frank Sinatra\n",
      "8 Have Yourself A Merry Little Christmas - Remastered 66 1957-09 Frank Sinatra\n",
      "9 That's Life 69 1966-11 Frank Sinatra\n"
     ]
    }
   ],
   "source": [
    "frank_results = sp.search(q='Frank Sinatra', limit=10)\n",
    "for idx, track in enumerate(frank_results['tracks']['items']):\n",
    "    print(idx, track['name'], track['popularity'], track['album']['release_date'], 'Frank Sinatra')\n",
    "    name.append(track['name'])\n",
    "    pop.append(track['popularity']) \n",
    "    date.append(track['album']['release_date']) \n",
    "    artist.append('Frank Sinatra')"
   ]
  },
  {
   "cell_type": "code",
   "execution_count": 27,
   "metadata": {},
   "outputs": [
    {
     "name": "stdout",
     "output_type": "stream",
     "text": [
      "0 The Christmas Song (Merry Christmas To You) 76 1962 Nat King Cole\n",
      "1 Wake Up in the Sky 73 2018-09-14 Nat King Cole\n",
      "2 Joy To The World 72 1962 Nat King Cole\n",
      "3 Cozy Little Christmas 71 2018-11-15 Nat King Cole\n",
      "4 The Happiest Christmas Tree 64 1962 Nat King Cole\n",
      "5 Wake Up in the Sky 69 2018-12-07 Nat King Cole\n",
      "6 O Tannenbaum 63 1962 Nat King Cole\n",
      "7 Classic Man (feat. Roman GianArthur) 59 2015-02-03 Nat King Cole\n",
      "8 L-O-V-E 69 1992-01-01 Nat King Cole\n",
      "9 Canción De Hamaca 0 2021-01-29 Nat King Cole\n"
     ]
    }
   ],
   "source": [
    "nat_results = sp.search(q='Nat King Cole', limit=10)\n",
    "for idx, track in enumerate(nat_results['tracks']['items']):\n",
    "    print(idx, track['name'], track['popularity'], track['album']['release_date'], 'Nat King Cole')\n",
    "    name.append(track['name'])\n",
    "    pop.append(track['popularity']) \n",
    "    date.append(track['album']['release_date']) \n",
    "    artist.append('Nat King Cole')"
   ]
  },
  {
   "cell_type": "code",
   "execution_count": 28,
   "metadata": {},
   "outputs": [
    {
     "name": "stdout",
     "output_type": "stream",
     "text": [
      "0 I Want It That Way 77 1999-05-18 Backstreet Boys\n",
      "1 I Want It That Way 75 2001-10-23 Backstreet Boys\n",
      "2 God, Your Mama, And Me 63 2016-08-26 Backstreet Boys\n",
      "3 Everybody (Backstreet's Back) - Radio Edit 60 2013-06-10 Backstreet Boys\n",
      "4 Everybody (Backstreet's Back) - Extended Version 56 1996 Backstreet Boys\n",
      "5 As Long as You Love Me 58 1996 Backstreet Boys\n",
      "6 Shape of My Heart 71 2000-11-21 Backstreet Boys\n",
      "7 Larger Than Life 65 1999-05-18 Backstreet Boys\n",
      "8 Christmas Time 65 2019-11-09 Backstreet Boys\n",
      "9 Quit Playing Games (With My Heart) 55 1996 Backstreet Boys\n"
     ]
    }
   ],
   "source": [
    "bsb_results = sp.search(q='Backstreet Boys', limit=10)\n",
    "for idx, track in enumerate(bsb_results['tracks']['items']):\n",
    "    print(idx, track['name'], track['popularity'], track['album']['release_date'], 'Backstreet Boys')\n",
    "    name.append(track['name'])\n",
    "    pop.append(track['popularity']) \n",
    "    date.append(track['album']['release_date']) \n",
    "    artist.append('Backstreet Boys')"
   ]
  },
  {
   "cell_type": "code",
   "execution_count": 29,
   "metadata": {},
   "outputs": [
    {
     "name": "stdout",
     "output_type": "stream",
     "text": [
      "0 Bye Bye Bye 69 2000-03-21 NSYNC\n",
      "1 Merry Christmas, Happy Holidays 66 1998-10-30 NSYNC\n",
      "2 It's Gonna Be Me 65 2000-03-21 NSYNC\n",
      "3 This I Promise You 67 2000-03-21 NSYNC\n",
      "4 Tearin' up My Heart - Radio Edit 58 1997-05-26 NSYNC\n",
      "5 Bring It All to Me (feat. *NSYNC) 56 1999-05-28 NSYNC\n",
      "6 Pop 54 2001-07-24 NSYNC\n",
      "7 Gone 51 2001-07-24 NSYNC\n",
      "8 Tearin' up My Heart - Radio Edit 61 1997 NSYNC\n",
      "9 I Want You Back - Radio Edit 50 1997-05-26 NSYNC\n"
     ]
    }
   ],
   "source": [
    "nsync_results = sp.search(q='NSYNC', limit=10)\n",
    "for idx, track in enumerate(nsync_results['tracks']['items']):\n",
    "    print(idx, track['name'], track['popularity'], track['album']['release_date'], 'NSYNC')\n",
    "    name.append(track['name'])\n",
    "    pop.append(track['popularity']) \n",
    "    date.append(track['album']['release_date']) \n",
    "    artist.append('NSYNC')"
   ]
  },
  {
   "cell_type": "code",
   "execution_count": 30,
   "metadata": {},
   "outputs": [
    {
     "name": "stdout",
     "output_type": "stream",
     "text": [
      "0 Night Changes 81 2014-11-17 One Direction\n",
      "1 What Makes You Beautiful 81 2012-05-25 One Direction\n",
      "2 Story of My Life 81 2013-11-25 One Direction\n",
      "3 18 79 2014-11-17 One Direction\n",
      "4 Drag Me Down 79 2015-11-13 One Direction\n",
      "5 Olivia 75 2015-11-13 One Direction\n",
      "6 You & I 77 2013-11-25 One Direction\n",
      "7 They Don't Know About Us 77 2012-11-12 One Direction\n",
      "8 Steal My Girl 77 2014-11-17 One Direction\n",
      "9 Best Song Ever 75 2013-11-25 One Direction\n"
     ]
    }
   ],
   "source": [
    "oned_results = sp.search(q='One Direction', limit=10)\n",
    "for idx, track in enumerate(oned_results['tracks']['items']):\n",
    "    print(idx, track['name'], track['popularity'], track['album']['release_date'], 'One Direction')\n",
    "    name.append(track['name'])\n",
    "    pop.append(track['popularity']) \n",
    "    date.append(track['album']['release_date']) \n",
    "    artist.append('One Direction')"
   ]
  },
  {
   "cell_type": "code",
   "execution_count": 31,
   "metadata": {},
   "outputs": [
    {
     "name": "stdout",
     "output_type": "stream",
     "text": [
      "0 Youngblood 80 2018-06-15 5 Seconds of Summer\n",
      "1 She Looks So Perfect 70 2014-06-27 5 Seconds of Summer\n",
      "2 Teeth 77 2019-08-23 5 Seconds of Summer\n",
      "3 Ghost Of You 74 2018-06-15 5 Seconds of Summer\n",
      "4 Amnesia 67 2014-06-27 5 Seconds of Summer\n",
      "5 Who Do You Love 74 2019-12-06 5 Seconds of Summer\n",
      "6 Easier 72 2020-03-27 5 Seconds of Summer\n",
      "7 She's Kinda Hot 66 2015-10-23 5 Seconds of Summer\n",
      "8 Youngblood 73 2018-04-12 5 Seconds of Summer\n",
      "9 Old Me 70 2020-03-27 5 Seconds of Summer\n"
     ]
    }
   ],
   "source": [
    "sos_results = sp.search(q='5 Seconds of Summer', limit=10)\n",
    "for idx, track in enumerate(sos_results['tracks']['items']):\n",
    "    print(idx, track['name'], track['popularity'], track['album']['release_date'], '5 Seconds of Summer')\n",
    "    name.append(track['name'])\n",
    "    pop.append(track['popularity']) \n",
    "    date.append(track['album']['release_date']) \n",
    "    artist.append('5 Seconds of Summer')"
   ]
  },
  {
   "cell_type": "code",
   "execution_count": 32,
   "metadata": {},
   "outputs": [
    {
     "name": "stdout",
     "output_type": "stream",
     "text": [
      "0 What Hurts The Most 69 2006-01-01 Rascal Flatts\n",
      "1 Life is a Highway 72 2006-01-01 Rascal Flatts\n",
      "2 Bless The Broken Road 69 2004-01-01 Rascal Flatts\n",
      "3 How They Remember You 65 2020-07-31 Rascal Flatts\n",
      "4 My Wish 64 2006-01-01 Rascal Flatts\n",
      "5 I Like The Sound Of That 63 2014-01-01 Rascal Flatts\n",
      "6 Back To Life 62 2018-09-28 Rascal Flatts\n",
      "7 I Won't Let Go 56 2010-01-01 Rascal Flatts\n",
      "8 Fast Cars And Freedom 55 2004-01-01 Rascal Flatts\n",
      "9 I'll Be Home For Christmas 1 2021-01-22 Rascal Flatts\n"
     ]
    }
   ],
   "source": [
    "rf_results = sp.search(q='Rascal Flatts', limit=10)\n",
    "for idx, track in enumerate(rf_results['tracks']['items']):\n",
    "    print(idx, track['name'], track['popularity'], track['album']['release_date'], 'Rascal Flatts')\n",
    "    name.append(track['name'])\n",
    "    pop.append(track['popularity']) \n",
    "    date.append(track['album']['release_date']) \n",
    "    artist.append('Rascal Flatts')"
   ]
  },
  {
   "cell_type": "code",
   "execution_count": 33,
   "metadata": {},
   "outputs": [
    {
     "name": "stdout",
     "output_type": "stream",
     "text": [
      "0 Anyone 91 2021-01-01 Justin Beiber\n",
      "1 Dance to the Drummer's Beat (Justin Beiber - Baby) - Jim Burgess 12\" Mix 7 2013-11-12 Justin Beiber\n",
      "2 Lonely (with benny blanco) 90 2020-10-16 Justin Beiber\n",
      "3 Justin Beiber Is My Boyfriend 7 2012-05-04 Justin Beiber\n",
      "4 Holy (feat. Chance The Rapper) 88 2020-09-18 Justin Beiber\n",
      "5 Justin Beiber 1 2014-12-09 Justin Beiber\n",
      "6 Monster (Shawn Mendes & Justin Bieber) 89 2020-11-20 Justin Beiber\n",
      "7 Justin Beiber 1 2020-11-12 Justin Beiber\n",
      "8 Stuck with U (with Justin Bieber) 86 2020-05-08 Justin Beiber\n",
      "9 Justin Beiber 0 2019-06-17 Justin Beiber\n"
     ]
    }
   ],
   "source": [
    "jb_results = sp.search(q='Justin Beiber', limit=10)\n",
    "for idx, track in enumerate(jb_results['tracks']['items']):\n",
    "    print(idx, track['name'], track['popularity'], track['album']['release_date'], 'Justin Beiber')\n",
    "    name.append(track['name'])\n",
    "    pop.append(track['popularity']) \n",
    "    date.append(track['album']['release_date']) \n",
    "    artist.append('Justin Bieber')"
   ]
  },
  {
   "cell_type": "code",
   "execution_count": 34,
   "metadata": {},
   "outputs": [
    {
     "name": "stdout",
     "output_type": "stream",
     "text": [
      "0 Afterglow 89 2020-12-21 Ed Sheeran\n",
      "1 Perfect 0 2021-01-29 Ed Sheeran\n",
      "2 Perfect 0 2021-02-01 Ed Sheeran\n",
      "3 Perfect 85 2017-03-03 Ed Sheeran\n",
      "4 Shape of You 83 2017-03-03 Ed Sheeran\n",
      "5 Happier 80 2017-03-03 Ed Sheeran\n",
      "6 Beautiful People (feat. Khalid) 80 2019-06-28 Ed Sheeran\n",
      "7 Thinking out Loud 82 2014-06-21 Ed Sheeran\n",
      "8 I Don't Care (with Justin Bieber) 81 2019-05-10 Ed Sheeran\n",
      "9 Photograph 82 2014-06-21 Ed Sheeran\n"
     ]
    }
   ],
   "source": [
    "es_results = sp.search(q='Ed Sheeran', limit=10)\n",
    "for idx, track in enumerate(es_results['tracks']['items']):\n",
    "    print(idx, track['name'], track['popularity'], track['album']['release_date'], 'Ed Sheeran')\n",
    "    name.append(track['name'])\n",
    "    pop.append(track['popularity']) \n",
    "    date.append(track['album']['release_date']) \n",
    "    artist.append('Ed Sheeran')"
   ]
  },
  {
   "cell_type": "code",
   "execution_count": 35,
   "metadata": {},
   "outputs": [
    {
     "name": "stdout",
     "output_type": "stream",
     "text": [
      "0 Needed Me 78 2016-01-28 Rihanna\n",
      "1 Desperado 77 2016-01-28 Rihanna\n",
      "2 Love The Way You Lie 80 2010-06-18 Rihanna\n",
      "3 Love On The Brain 79 2016-01-28 Rihanna\n",
      "4 LOYALTY. FEAT. RIHANNA. 70 2017-04-14 Rihanna\n",
      "5 BELIEVE IT 77 2020-03-27 Rihanna\n",
      "6 This Is What You Came For (feat. Rihanna) 77 2016-04-29 Rihanna\n",
      "7 FourFiveSeconds 77 2015-01-24 Rihanna\n",
      "8 Umbrella 81 2008-06-02 Rihanna\n",
      "9 Pon de Replay 77 2005-08-29 Rihanna\n"
     ]
    }
   ],
   "source": [
    "rih_results = sp.search(q='Rihanna', limit=10)\n",
    "for idx, track in enumerate(rih_results['tracks']['items']):\n",
    "    print(idx, track['name'], track['popularity'], track['album']['release_date'], 'Rihanna')\n",
    "    name.append(track['name'])\n",
    "    pop.append(track['popularity']) \n",
    "    date.append(track['album']['release_date']) \n",
    "    artist.append('Rihanna')"
   ]
  },
  {
   "cell_type": "code",
   "execution_count": 36,
   "metadata": {},
   "outputs": [
    {
     "name": "stdout",
     "output_type": "stream",
     "text": [
      "0 Tusa 86 2019-11-07 Nicki Minaj\n",
      "1 Rake It Up (feat. Nicki Minaj) 73 2017-10-27 Nicki Minaj\n",
      "2 Super Bass 76 2010-11-22 Nicki Minaj\n",
      "3 Bottoms Up (feat. Nicki Minaj) 70 2010-09-14 Nicki Minaj\n",
      "4 Starships 70 2011-01-01 Nicki Minaj\n",
      "5 Hot Girl Summer (feat. Nicki Minaj & Ty Dolla $ign) 72 2019-08-09 Nicki Minaj\n",
      "6 Yikes 72 2020-02-07 Nicki Minaj\n",
      "7 BIG BANK (feat. 2 Chainz, Big Sean, Nicki Minaj) 69 2018-08-03 Nicki Minaj\n",
      "8 Say So (feat. Nicki Minaj) 73 2020-05-01 Nicki Minaj\n",
      "9 MotorSport 72 2018-01-26 Nicki Minaj\n"
     ]
    }
   ],
   "source": [
    "nm_results = sp.search(q='Nicki Minaj', limit=10)\n",
    "for idx, track in enumerate(nm_results['tracks']['items']):\n",
    "    print(idx, track['name'], track['popularity'], track['album']['release_date'], 'Nicki Minaj')\n",
    "    name.append(track['name'])\n",
    "    pop.append(track['popularity']) \n",
    "    date.append(track['album']['release_date']) \n",
    "    artist.append('Nicki Minaj')"
   ]
  },
  {
   "cell_type": "code",
   "execution_count": 37,
   "metadata": {},
   "outputs": [
    {
     "name": "stdout",
     "output_type": "stream",
     "text": [
      "0 Hell Of A View 72 2020-10-02 Eric Church\n",
      "1 Does To Me (feat. Eric Church) 69 2019-11-08 Eric Church\n",
      "2 Springsteen 71 2011-01-01 Eric Church\n",
      "3 Doing Life With Me 71 2020-12-11 Eric Church\n",
      "4 Drink In My Hand 69 2011-01-01 Eric Church\n",
      "5 Heart On Fire 55 2021-01-29 Eric Church\n",
      "6 Record Year 64 2015-11-11 Eric Church\n",
      "7 Talladega 64 2014-01-01 Eric Church\n",
      "8 Stick That In Your Country Song 64 2020-06-25 Eric Church\n",
      "9 Smoke A Little Smoke 62 2009-01-01 Eric Church\n"
     ]
    }
   ],
   "source": [
    "echu_results = sp.search(q='Eric Church', limit=10)\n",
    "for idx, track in enumerate(echu_results['tracks']['items']):\n",
    "    print(idx, track['name'], track['popularity'], track['album']['release_date'], 'Eric Church')\n",
    "    name.append(track['name'])\n",
    "    pop.append(track['popularity']) \n",
    "    date.append(track['album']['release_date']) \n",
    "    artist.append('Eric Church')"
   ]
  },
  {
   "cell_type": "code",
   "execution_count": 38,
   "metadata": {},
   "outputs": [
    {
     "name": "stdout",
     "output_type": "stream",
     "text": [
      "0 Hell Of A View 72 2020-10-02 Jake Scott\n",
      "1 Does To Me (feat. Eric Church) 69 2019-11-08 Jake Scott\n",
      "2 Springsteen 71 2011-01-01 Jake Scott\n",
      "3 Doing Life With Me 71 2020-12-11 Jake Scott\n",
      "4 Drink In My Hand 69 2011-01-01 Jake Scott\n",
      "5 Heart On Fire 55 2021-01-29 Jake Scott\n",
      "6 Record Year 64 2015-11-11 Jake Scott\n",
      "7 Talladega 64 2014-01-01 Jake Scott\n",
      "8 Stick That In Your Country Song 64 2020-06-25 Jake Scott\n",
      "9 Smoke A Little Smoke 62 2009-01-01 Jake Scott\n"
     ]
    }
   ],
   "source": [
    "js_results = sp.search(q='Jake Scott', limit=10)\n",
    "for idx, track in enumerate(echu_results['tracks']['items']):\n",
    "    print(idx, track['name'], track['popularity'], track['album']['release_date'], 'Jake Scott')\n",
    "    name.append(track['name'])\n",
    "    pop.append(track['popularity']) \n",
    "    date.append(track['album']['release_date']) \n",
    "    artist.append('Jake Scott')"
   ]
  },
  {
   "cell_type": "code",
   "execution_count": 46,
   "metadata": {},
   "outputs": [
    {
     "name": "stdout",
     "output_type": "stream",
     "text": [
      "['2017', '2020', '2014', '2014', '2020', '2020', '2014', '2020', '2014', '2019', '2020', '2017', '2017', '2018', '2020', '2020', '2020', '2019', '2020', '2018', '2020', '2019', '2018', '2019', '2017', '2017', '2018', '2019', '2021', '2019', '2013', '2020', '2020', '2013', '2011', '2013', '2019', '2015', '2015', '2011', '2020', '2017', '2020', '2016', '2020', '2019', '2019', '2020', '2019', '2020', '2020', '2020', '2018', '2017', '2017', '2017', '2017', '2017', '2017', '2017', '2004', '2007', '2003', '2009', '2012', '2001', '2020', '2020', '2009', '2020', '2020', '2003', '2016', '2008', '2014', '2020', '2011', '2016', '2017', '2009', '2004', '2019', '2004', '2021', '2010', '2020', '2010', '2001', '2011', '2001', '2005', '2014', '1992', '2002', '2001', '2000', '2007', '1995', '2005', '1994', '2013', '2016', '2020', '2021', '2014', '2021', '2021', '2018', '2004', '2013', '2014', '2012', '2010', '2013', '2017', '2010', '2020', '2010', '2010', '2009', '2020', '2020', '2020', '2020', '2020', '2020', '2020', '2020', '2018', '2020', '2018', '2017', '2014', '2017', '2019', '2014', '2014', '2012', '2018', '2018', '1975', '1973', '1975', '1987', '1986', '1998', '1998', '1993', '1993', '1994', '1975', '1979', '1979', '1973', '1973', '1973', '1979', '1973', '1973', '1975', '1991', '2014', '1999', '2018', '2002', '2006', '2006', '1999', '1999', '2016', '1987', '2015', '1987', '2018', '1987', '1991', '2019', '1991', '1991', '2020', '1980', '1990', '1979', '1980', '1976', '1976', '1980', '1980', '1976', '1986', '1967', '1968', '1968', '2021', '2021', '2021', '2021', '2021', '2021', '2021', '1962', '1959', '1961', '1959', '1981', '1959', '2021', '2021', '1959', '1959', '2020', '1956', '1963', '1995', '2013', '1959', '1964', '1995', '1963', '2014', '1994', '1957', '1962', '1969', '2013', '1957', '1996', '1958', '1957', '1966', '1962', '2018', '1962', '2018', '1962', '2018', '1962', '2015', '1992', '2021', '1999', '2001', '2016', '2013', '1996', '1996', '2000', '1999', '2019', '1996', '2000', '1998', '2000', '2000', '1997', '1999', '2001', '2001', '1997', '1997', '2014', '2012', '2013', '2014', '2015', '2015', '2013', '2012', '2014', '2013', '2018', '2014', '2019', '2018', '2014', '2019', '2020', '2015', '2018', '2020', '2006', '2006', '2004', '2020', '2006', '2014', '2018', '2010', '2004', '2021', '2021', '2013', '2020', '2012', '2020', '2014', '2020', '2020', '2020', '2019', '2020', '2021', '2021', '2017', '2017', '2017', '2019', '2014', '2019', '2014', '2016', '2016', '2010', '2016', '2017', '2020', '2016', '2015', '2008', '2005', '2019', '2017', '2010', '2010', '2011', '2019', '2020', '2018', '2020', '2018', '2020', '2019', '2011', '2020', '2011', '2021', '2015', '2014', '2020', '2009', '2020', '2019', '2011', '2020', '2011', '2021', '2015', '2014', '2020', '2009']\n"
     ]
    }
   ],
   "source": [
    "date = [i.split('-', 1)[0] for i in date]"
   ]
  },
  {
   "cell_type": "code",
   "execution_count": 47,
   "metadata": {},
   "outputs": [],
   "source": [
    "# Grouping all the lists together into a DataFrame\n",
    "spotify_df = pd.DataFrame(list(zip(name,pop,date,artist))) "
   ]
  },
  {
   "cell_type": "code",
   "execution_count": 48,
   "metadata": {},
   "outputs": [],
   "source": [
    "# Renaming the columns to give titles\n",
    "spotify_df.rename(columns={0: \"song_title\", 1: \"popularity_index\", 2: \"album_release_date\", 3: \"artist\"},\n",
    "                  inplace=True)"
   ]
  },
  {
   "cell_type": "code",
   "execution_count": 49,
   "metadata": {},
   "outputs": [],
   "source": [
    "# Drop the duplicates \n",
    "spotify_df.drop_duplicates(subset=['song_title'], keep='first', inplace=True)"
   ]
  },
  {
   "cell_type": "code",
   "execution_count": 50,
   "metadata": {},
   "outputs": [
    {
     "data": {
      "text/html": [
       "<div>\n",
       "<style scoped>\n",
       "    .dataframe tbody tr th:only-of-type {\n",
       "        vertical-align: middle;\n",
       "    }\n",
       "\n",
       "    .dataframe tbody tr th {\n",
       "        vertical-align: top;\n",
       "    }\n",
       "\n",
       "    .dataframe thead th {\n",
       "        text-align: right;\n",
       "    }\n",
       "</style>\n",
       "<table border=\"1\" class=\"dataframe\">\n",
       "  <thead>\n",
       "    <tr style=\"text-align: right;\">\n",
       "      <th></th>\n",
       "      <th>song_title</th>\n",
       "      <th>popularity_index</th>\n",
       "      <th>album_release_date</th>\n",
       "      <th>artist</th>\n",
       "    </tr>\n",
       "  </thead>\n",
       "  <tbody>\n",
       "    <tr>\n",
       "      <th>0</th>\n",
       "      <td>Body Like A Back Road</td>\n",
       "      <td>72</td>\n",
       "      <td>2017</td>\n",
       "      <td>Sam Hunt</td>\n",
       "    </tr>\n",
       "    <tr>\n",
       "      <th>1</th>\n",
       "      <td>Hard To Forget</td>\n",
       "      <td>69</td>\n",
       "      <td>2020</td>\n",
       "      <td>Sam Hunt</td>\n",
       "    </tr>\n",
       "    <tr>\n",
       "      <th>2</th>\n",
       "      <td>House Party</td>\n",
       "      <td>69</td>\n",
       "      <td>2014</td>\n",
       "      <td>Sam Hunt</td>\n",
       "    </tr>\n",
       "    <tr>\n",
       "      <th>3</th>\n",
       "      <td>Break Up In A Small Town</td>\n",
       "      <td>66</td>\n",
       "      <td>2014</td>\n",
       "      <td>Sam Hunt</td>\n",
       "    </tr>\n",
       "    <tr>\n",
       "      <th>4</th>\n",
       "      <td>Breaking Up Was Easy In The 90's</td>\n",
       "      <td>66</td>\n",
       "      <td>2020</td>\n",
       "      <td>Sam Hunt</td>\n",
       "    </tr>\n",
       "    <tr>\n",
       "      <th>5</th>\n",
       "      <td>Kinfolks</td>\n",
       "      <td>64</td>\n",
       "      <td>2020</td>\n",
       "      <td>Sam Hunt</td>\n",
       "    </tr>\n",
       "    <tr>\n",
       "      <th>6</th>\n",
       "      <td>Make You Miss Me</td>\n",
       "      <td>65</td>\n",
       "      <td>2014</td>\n",
       "      <td>Sam Hunt</td>\n",
       "    </tr>\n",
       "    <tr>\n",
       "      <th>8</th>\n",
       "      <td>Take Your Time</td>\n",
       "      <td>66</td>\n",
       "      <td>2014</td>\n",
       "      <td>Sam Hunt</td>\n",
       "    </tr>\n",
       "    <tr>\n",
       "      <th>10</th>\n",
       "      <td>Famous For (I Believe)</td>\n",
       "      <td>61</td>\n",
       "      <td>2020</td>\n",
       "      <td>Tauren Wells</td>\n",
       "    </tr>\n",
       "    <tr>\n",
       "      <th>11</th>\n",
       "      <td>Known</td>\n",
       "      <td>61</td>\n",
       "      <td>2017</td>\n",
       "      <td>Tauren Wells</td>\n",
       "    </tr>\n",
       "    <tr>\n",
       "      <th>12</th>\n",
       "      <td>Hills and Valleys (The Valleys Version)</td>\n",
       "      <td>60</td>\n",
       "      <td>2017</td>\n",
       "      <td>Tauren Wells</td>\n",
       "    </tr>\n",
       "    <tr>\n",
       "      <th>13</th>\n",
       "      <td>Echo (feat. Tauren Wells)</td>\n",
       "      <td>56</td>\n",
       "      <td>2018</td>\n",
       "      <td>Tauren Wells</td>\n",
       "    </tr>\n",
       "    <tr>\n",
       "      <th>14</th>\n",
       "      <td>All God's Children</td>\n",
       "      <td>58</td>\n",
       "      <td>2020</td>\n",
       "      <td>Tauren Wells</td>\n",
       "    </tr>\n",
       "    <tr>\n",
       "      <th>15</th>\n",
       "      <td>Never Lost (Live) (feat. Tauren Wells)</td>\n",
       "      <td>55</td>\n",
       "      <td>2020</td>\n",
       "      <td>Tauren Wells</td>\n",
       "    </tr>\n",
       "    <tr>\n",
       "      <th>16</th>\n",
       "      <td>Famous For (I Believe) [Dove Awards Version] (...</td>\n",
       "      <td>56</td>\n",
       "      <td>2020</td>\n",
       "      <td>Tauren Wells</td>\n",
       "    </tr>\n",
       "    <tr>\n",
       "      <th>17</th>\n",
       "      <td>God's Not Done with You (Single Version)</td>\n",
       "      <td>56</td>\n",
       "      <td>2019</td>\n",
       "      <td>Tauren Wells</td>\n",
       "    </tr>\n",
       "    <tr>\n",
       "      <th>18</th>\n",
       "      <td>Like You Love Me</td>\n",
       "      <td>55</td>\n",
       "      <td>2020</td>\n",
       "      <td>Tauren Wells</td>\n",
       "    </tr>\n",
       "    <tr>\n",
       "      <th>20</th>\n",
       "      <td>Forever After All</td>\n",
       "      <td>80</td>\n",
       "      <td>2020</td>\n",
       "      <td>Luke Combs</td>\n",
       "    </tr>\n",
       "    <tr>\n",
       "      <th>21</th>\n",
       "      <td>Better Together</td>\n",
       "      <td>78</td>\n",
       "      <td>2019</td>\n",
       "      <td>Luke Combs</td>\n",
       "    </tr>\n",
       "    <tr>\n",
       "      <th>22</th>\n",
       "      <td>Beautiful Crazy</td>\n",
       "      <td>78</td>\n",
       "      <td>2018</td>\n",
       "      <td>Luke Combs</td>\n",
       "    </tr>\n",
       "    <tr>\n",
       "      <th>23</th>\n",
       "      <td>Beer Never Broke My Heart</td>\n",
       "      <td>75</td>\n",
       "      <td>2019</td>\n",
       "      <td>Luke Combs</td>\n",
       "    </tr>\n",
       "    <tr>\n",
       "      <th>24</th>\n",
       "      <td>When It Rains It Pours</td>\n",
       "      <td>75</td>\n",
       "      <td>2017</td>\n",
       "      <td>Luke Combs</td>\n",
       "    </tr>\n",
       "    <tr>\n",
       "      <th>25</th>\n",
       "      <td>Hurricane</td>\n",
       "      <td>74</td>\n",
       "      <td>2017</td>\n",
       "      <td>Luke Combs</td>\n",
       "    </tr>\n",
       "    <tr>\n",
       "      <th>26</th>\n",
       "      <td>She Got the Best of Me</td>\n",
       "      <td>74</td>\n",
       "      <td>2018</td>\n",
       "      <td>Luke Combs</td>\n",
       "    </tr>\n",
       "    <tr>\n",
       "      <th>27</th>\n",
       "      <td>Lovin' On You</td>\n",
       "      <td>72</td>\n",
       "      <td>2019</td>\n",
       "      <td>Luke Combs</td>\n",
       "    </tr>\n",
       "    <tr>\n",
       "      <th>28</th>\n",
       "      <td>The Great Divide</td>\n",
       "      <td>4</td>\n",
       "      <td>2021</td>\n",
       "      <td>Luke Combs</td>\n",
       "    </tr>\n",
       "    <tr>\n",
       "      <th>29</th>\n",
       "      <td>Even Though I'm Leaving</td>\n",
       "      <td>71</td>\n",
       "      <td>2019</td>\n",
       "      <td>Luke Combs</td>\n",
       "    </tr>\n",
       "    <tr>\n",
       "      <th>30</th>\n",
       "      <td>Play It Again</td>\n",
       "      <td>72</td>\n",
       "      <td>2013</td>\n",
       "      <td>Luke Bryan</td>\n",
       "    </tr>\n",
       "    <tr>\n",
       "      <th>31</th>\n",
       "      <td>Down To One</td>\n",
       "      <td>71</td>\n",
       "      <td>2020</td>\n",
       "      <td>Luke Bryan</td>\n",
       "    </tr>\n",
       "    <tr>\n",
       "      <th>32</th>\n",
       "      <td>One Margarita</td>\n",
       "      <td>68</td>\n",
       "      <td>2020</td>\n",
       "      <td>Luke Bryan</td>\n",
       "    </tr>\n",
       "    <tr>\n",
       "      <th>...</th>\n",
       "      <td>...</td>\n",
       "      <td>...</td>\n",
       "      <td>...</td>\n",
       "      <td>...</td>\n",
       "    </tr>\n",
       "    <tr>\n",
       "      <th>310</th>\n",
       "      <td>Needed Me</td>\n",
       "      <td>78</td>\n",
       "      <td>2016</td>\n",
       "      <td>Rihanna</td>\n",
       "    </tr>\n",
       "    <tr>\n",
       "      <th>311</th>\n",
       "      <td>Desperado</td>\n",
       "      <td>77</td>\n",
       "      <td>2016</td>\n",
       "      <td>Rihanna</td>\n",
       "    </tr>\n",
       "    <tr>\n",
       "      <th>312</th>\n",
       "      <td>Love The Way You Lie</td>\n",
       "      <td>80</td>\n",
       "      <td>2010</td>\n",
       "      <td>Rihanna</td>\n",
       "    </tr>\n",
       "    <tr>\n",
       "      <th>313</th>\n",
       "      <td>Love On The Brain</td>\n",
       "      <td>79</td>\n",
       "      <td>2016</td>\n",
       "      <td>Rihanna</td>\n",
       "    </tr>\n",
       "    <tr>\n",
       "      <th>314</th>\n",
       "      <td>LOYALTY. FEAT. RIHANNA.</td>\n",
       "      <td>70</td>\n",
       "      <td>2017</td>\n",
       "      <td>Rihanna</td>\n",
       "    </tr>\n",
       "    <tr>\n",
       "      <th>315</th>\n",
       "      <td>BELIEVE IT</td>\n",
       "      <td>77</td>\n",
       "      <td>2020</td>\n",
       "      <td>Rihanna</td>\n",
       "    </tr>\n",
       "    <tr>\n",
       "      <th>316</th>\n",
       "      <td>This Is What You Came For (feat. Rihanna)</td>\n",
       "      <td>77</td>\n",
       "      <td>2016</td>\n",
       "      <td>Rihanna</td>\n",
       "    </tr>\n",
       "    <tr>\n",
       "      <th>317</th>\n",
       "      <td>FourFiveSeconds</td>\n",
       "      <td>77</td>\n",
       "      <td>2015</td>\n",
       "      <td>Rihanna</td>\n",
       "    </tr>\n",
       "    <tr>\n",
       "      <th>318</th>\n",
       "      <td>Umbrella</td>\n",
       "      <td>81</td>\n",
       "      <td>2008</td>\n",
       "      <td>Rihanna</td>\n",
       "    </tr>\n",
       "    <tr>\n",
       "      <th>319</th>\n",
       "      <td>Pon de Replay</td>\n",
       "      <td>77</td>\n",
       "      <td>2005</td>\n",
       "      <td>Rihanna</td>\n",
       "    </tr>\n",
       "    <tr>\n",
       "      <th>320</th>\n",
       "      <td>Tusa</td>\n",
       "      <td>86</td>\n",
       "      <td>2019</td>\n",
       "      <td>Nicki Minaj</td>\n",
       "    </tr>\n",
       "    <tr>\n",
       "      <th>321</th>\n",
       "      <td>Rake It Up (feat. Nicki Minaj)</td>\n",
       "      <td>73</td>\n",
       "      <td>2017</td>\n",
       "      <td>Nicki Minaj</td>\n",
       "    </tr>\n",
       "    <tr>\n",
       "      <th>322</th>\n",
       "      <td>Super Bass</td>\n",
       "      <td>76</td>\n",
       "      <td>2010</td>\n",
       "      <td>Nicki Minaj</td>\n",
       "    </tr>\n",
       "    <tr>\n",
       "      <th>323</th>\n",
       "      <td>Bottoms Up (feat. Nicki Minaj)</td>\n",
       "      <td>70</td>\n",
       "      <td>2010</td>\n",
       "      <td>Nicki Minaj</td>\n",
       "    </tr>\n",
       "    <tr>\n",
       "      <th>324</th>\n",
       "      <td>Starships</td>\n",
       "      <td>70</td>\n",
       "      <td>2011</td>\n",
       "      <td>Nicki Minaj</td>\n",
       "    </tr>\n",
       "    <tr>\n",
       "      <th>325</th>\n",
       "      <td>Hot Girl Summer (feat. Nicki Minaj &amp; Ty Dolla ...</td>\n",
       "      <td>72</td>\n",
       "      <td>2019</td>\n",
       "      <td>Nicki Minaj</td>\n",
       "    </tr>\n",
       "    <tr>\n",
       "      <th>326</th>\n",
       "      <td>Yikes</td>\n",
       "      <td>72</td>\n",
       "      <td>2020</td>\n",
       "      <td>Nicki Minaj</td>\n",
       "    </tr>\n",
       "    <tr>\n",
       "      <th>327</th>\n",
       "      <td>BIG BANK (feat. 2 Chainz, Big Sean, Nicki Minaj)</td>\n",
       "      <td>69</td>\n",
       "      <td>2018</td>\n",
       "      <td>Nicki Minaj</td>\n",
       "    </tr>\n",
       "    <tr>\n",
       "      <th>328</th>\n",
       "      <td>Say So (feat. Nicki Minaj)</td>\n",
       "      <td>73</td>\n",
       "      <td>2020</td>\n",
       "      <td>Nicki Minaj</td>\n",
       "    </tr>\n",
       "    <tr>\n",
       "      <th>329</th>\n",
       "      <td>MotorSport</td>\n",
       "      <td>72</td>\n",
       "      <td>2018</td>\n",
       "      <td>Nicki Minaj</td>\n",
       "    </tr>\n",
       "    <tr>\n",
       "      <th>330</th>\n",
       "      <td>Hell Of A View</td>\n",
       "      <td>72</td>\n",
       "      <td>2020</td>\n",
       "      <td>Eric Church</td>\n",
       "    </tr>\n",
       "    <tr>\n",
       "      <th>331</th>\n",
       "      <td>Does To Me (feat. Eric Church)</td>\n",
       "      <td>69</td>\n",
       "      <td>2019</td>\n",
       "      <td>Eric Church</td>\n",
       "    </tr>\n",
       "    <tr>\n",
       "      <th>332</th>\n",
       "      <td>Springsteen</td>\n",
       "      <td>71</td>\n",
       "      <td>2011</td>\n",
       "      <td>Eric Church</td>\n",
       "    </tr>\n",
       "    <tr>\n",
       "      <th>333</th>\n",
       "      <td>Doing Life With Me</td>\n",
       "      <td>71</td>\n",
       "      <td>2020</td>\n",
       "      <td>Eric Church</td>\n",
       "    </tr>\n",
       "    <tr>\n",
       "      <th>334</th>\n",
       "      <td>Drink In My Hand</td>\n",
       "      <td>69</td>\n",
       "      <td>2011</td>\n",
       "      <td>Eric Church</td>\n",
       "    </tr>\n",
       "    <tr>\n",
       "      <th>335</th>\n",
       "      <td>Heart On Fire</td>\n",
       "      <td>55</td>\n",
       "      <td>2021</td>\n",
       "      <td>Eric Church</td>\n",
       "    </tr>\n",
       "    <tr>\n",
       "      <th>336</th>\n",
       "      <td>Record Year</td>\n",
       "      <td>64</td>\n",
       "      <td>2015</td>\n",
       "      <td>Eric Church</td>\n",
       "    </tr>\n",
       "    <tr>\n",
       "      <th>337</th>\n",
       "      <td>Talladega</td>\n",
       "      <td>64</td>\n",
       "      <td>2014</td>\n",
       "      <td>Eric Church</td>\n",
       "    </tr>\n",
       "    <tr>\n",
       "      <th>338</th>\n",
       "      <td>Stick That In Your Country Song</td>\n",
       "      <td>64</td>\n",
       "      <td>2020</td>\n",
       "      <td>Eric Church</td>\n",
       "    </tr>\n",
       "    <tr>\n",
       "      <th>339</th>\n",
       "      <td>Smoke A Little Smoke</td>\n",
       "      <td>62</td>\n",
       "      <td>2009</td>\n",
       "      <td>Eric Church</td>\n",
       "    </tr>\n",
       "  </tbody>\n",
       "</table>\n",
       "<p>316 rows × 4 columns</p>\n",
       "</div>"
      ],
      "text/plain": [
       "                                            song_title  popularity_index  \\\n",
       "0                                Body Like A Back Road                72   \n",
       "1                                       Hard To Forget                69   \n",
       "2                                          House Party                69   \n",
       "3                             Break Up In A Small Town                66   \n",
       "4                     Breaking Up Was Easy In The 90's                66   \n",
       "5                                             Kinfolks                64   \n",
       "6                                     Make You Miss Me                65   \n",
       "8                                       Take Your Time                66   \n",
       "10                              Famous For (I Believe)                61   \n",
       "11                                               Known                61   \n",
       "12             Hills and Valleys (The Valleys Version)                60   \n",
       "13                           Echo (feat. Tauren Wells)                56   \n",
       "14                                  All God's Children                58   \n",
       "15              Never Lost (Live) (feat. Tauren Wells)                55   \n",
       "16   Famous For (I Believe) [Dove Awards Version] (...                56   \n",
       "17            God's Not Done with You (Single Version)                56   \n",
       "18                                    Like You Love Me                55   \n",
       "20                                   Forever After All                80   \n",
       "21                                     Better Together                78   \n",
       "22                                     Beautiful Crazy                78   \n",
       "23                           Beer Never Broke My Heart                75   \n",
       "24                              When It Rains It Pours                75   \n",
       "25                                           Hurricane                74   \n",
       "26                              She Got the Best of Me                74   \n",
       "27                                       Lovin' On You                72   \n",
       "28                                    The Great Divide                 4   \n",
       "29                             Even Though I'm Leaving                71   \n",
       "30                                       Play It Again                72   \n",
       "31                                         Down To One                71   \n",
       "32                                       One Margarita                68   \n",
       "..                                                 ...               ...   \n",
       "310                                          Needed Me                78   \n",
       "311                                          Desperado                77   \n",
       "312                               Love The Way You Lie                80   \n",
       "313                                  Love On The Brain                79   \n",
       "314                            LOYALTY. FEAT. RIHANNA.                70   \n",
       "315                                         BELIEVE IT                77   \n",
       "316          This Is What You Came For (feat. Rihanna)                77   \n",
       "317                                    FourFiveSeconds                77   \n",
       "318                                           Umbrella                81   \n",
       "319                                      Pon de Replay                77   \n",
       "320                                               Tusa                86   \n",
       "321                     Rake It Up (feat. Nicki Minaj)                73   \n",
       "322                                         Super Bass                76   \n",
       "323                     Bottoms Up (feat. Nicki Minaj)                70   \n",
       "324                                          Starships                70   \n",
       "325  Hot Girl Summer (feat. Nicki Minaj & Ty Dolla ...                72   \n",
       "326                                              Yikes                72   \n",
       "327   BIG BANK (feat. 2 Chainz, Big Sean, Nicki Minaj)                69   \n",
       "328                         Say So (feat. Nicki Minaj)                73   \n",
       "329                                         MotorSport                72   \n",
       "330                                     Hell Of A View                72   \n",
       "331                     Does To Me (feat. Eric Church)                69   \n",
       "332                                        Springsteen                71   \n",
       "333                                 Doing Life With Me                71   \n",
       "334                                   Drink In My Hand                69   \n",
       "335                                      Heart On Fire                55   \n",
       "336                                        Record Year                64   \n",
       "337                                          Talladega                64   \n",
       "338                    Stick That In Your Country Song                64   \n",
       "339                               Smoke A Little Smoke                62   \n",
       "\n",
       "    album_release_date        artist  \n",
       "0                 2017      Sam Hunt  \n",
       "1                 2020      Sam Hunt  \n",
       "2                 2014      Sam Hunt  \n",
       "3                 2014      Sam Hunt  \n",
       "4                 2020      Sam Hunt  \n",
       "5                 2020      Sam Hunt  \n",
       "6                 2014      Sam Hunt  \n",
       "8                 2014      Sam Hunt  \n",
       "10                2020  Tauren Wells  \n",
       "11                2017  Tauren Wells  \n",
       "12                2017  Tauren Wells  \n",
       "13                2018  Tauren Wells  \n",
       "14                2020  Tauren Wells  \n",
       "15                2020  Tauren Wells  \n",
       "16                2020  Tauren Wells  \n",
       "17                2019  Tauren Wells  \n",
       "18                2020  Tauren Wells  \n",
       "20                2020    Luke Combs  \n",
       "21                2019    Luke Combs  \n",
       "22                2018    Luke Combs  \n",
       "23                2019    Luke Combs  \n",
       "24                2017    Luke Combs  \n",
       "25                2017    Luke Combs  \n",
       "26                2018    Luke Combs  \n",
       "27                2019    Luke Combs  \n",
       "28                2021    Luke Combs  \n",
       "29                2019    Luke Combs  \n",
       "30                2013    Luke Bryan  \n",
       "31                2020    Luke Bryan  \n",
       "32                2020    Luke Bryan  \n",
       "..                 ...           ...  \n",
       "310               2016       Rihanna  \n",
       "311               2016       Rihanna  \n",
       "312               2010       Rihanna  \n",
       "313               2016       Rihanna  \n",
       "314               2017       Rihanna  \n",
       "315               2020       Rihanna  \n",
       "316               2016       Rihanna  \n",
       "317               2015       Rihanna  \n",
       "318               2008       Rihanna  \n",
       "319               2005       Rihanna  \n",
       "320               2019   Nicki Minaj  \n",
       "321               2017   Nicki Minaj  \n",
       "322               2010   Nicki Minaj  \n",
       "323               2010   Nicki Minaj  \n",
       "324               2011   Nicki Minaj  \n",
       "325               2019   Nicki Minaj  \n",
       "326               2020   Nicki Minaj  \n",
       "327               2018   Nicki Minaj  \n",
       "328               2020   Nicki Minaj  \n",
       "329               2018   Nicki Minaj  \n",
       "330               2020   Eric Church  \n",
       "331               2019   Eric Church  \n",
       "332               2011   Eric Church  \n",
       "333               2020   Eric Church  \n",
       "334               2011   Eric Church  \n",
       "335               2021   Eric Church  \n",
       "336               2015   Eric Church  \n",
       "337               2014   Eric Church  \n",
       "338               2020   Eric Church  \n",
       "339               2009   Eric Church  \n",
       "\n",
       "[316 rows x 4 columns]"
      ]
     },
     "execution_count": 50,
     "metadata": {},
     "output_type": "execute_result"
    }
   ],
   "source": [
    "# Dataset dropped from 350 songs to 313 songs\n",
    "spotify_df"
   ]
  },
  {
   "cell_type": "code",
   "execution_count": 51,
   "metadata": {},
   "outputs": [],
   "source": [
    "songs_dict = spotify_df.to_dict('records')"
   ]
  },
  {
   "cell_type": "code",
   "execution_count": 52,
   "metadata": {},
   "outputs": [],
   "source": [
    "# The default port used by MongoDB is 27017\n",
    "# https://docs.mongodb.com/manual/reference/default-mongodb-port/\n",
    "conn = 'mongodb://localhost:27017'\n",
    "client = pymongo.MongoClient(conn)\n",
    "\n",
    "# Define the 'spotify' database in Mongo\n",
    "db = client.spotify"
   ]
  },
  {
   "cell_type": "code",
   "execution_count": 53,
   "metadata": {},
   "outputs": [],
   "source": [
    "db.songs.drop()"
   ]
  },
  {
   "cell_type": "code",
   "execution_count": 54,
   "metadata": {},
   "outputs": [],
   "source": [
    "for i in songs_dict:\n",
    "    db.songs.insert_one(i)"
   ]
  },
  {
   "cell_type": "code",
   "execution_count": null,
   "metadata": {},
   "outputs": [],
   "source": []
  }
 ],
 "metadata": {
  "kernelspec": {
   "display_name": "Python 3",
   "language": "python",
   "name": "python3"
  },
  "language_info": {
   "codemirror_mode": {
    "name": "ipython",
    "version": 3
   },
   "file_extension": ".py",
   "mimetype": "text/x-python",
   "name": "python",
   "nbconvert_exporter": "python",
   "pygments_lexer": "ipython3",
   "version": "3.6.5"
  }
 },
 "nbformat": 4,
 "nbformat_minor": 2
}
